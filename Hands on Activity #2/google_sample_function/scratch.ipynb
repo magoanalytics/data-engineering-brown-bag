{
 "cells": [
  {
   "cell_type": "markdown",
   "metadata": {},
   "source": [
    "# Sample"
   ]
  },
  {
   "cell_type": "code",
   "execution_count": 22,
   "metadata": {},
   "outputs": [
    {
     "name": "stdout",
     "output_type": "stream",
     "text": [
      "Requirement already satisfied: pandas_gbq in c:\\anaconda\\lib\\site-packages (0.13.1)\n",
      "Requirement already satisfied: setuptools in c:\\anaconda\\lib\\site-packages (from pandas_gbq) (40.8.0)\n",
      "Requirement already satisfied: pydata-google-auth in c:\\anaconda\\lib\\site-packages (from pandas_gbq) (1.1.0)\n",
      "Requirement already satisfied: google-auth-oauthlib in c:\\anaconda\\lib\\site-packages (from pandas_gbq) (0.4.1)\n",
      "Requirement already satisfied: google-auth in c:\\anaconda\\lib\\site-packages (from pandas_gbq) (1.14.1)\n",
      "Requirement already satisfied: google-cloud-bigquery>=1.11.1 in c:\\anaconda\\lib\\site-packages (from pandas_gbq) (1.24.0)\n",
      "Requirement already satisfied: pandas>=0.19.0 in c:\\anaconda\\lib\\site-packages (from pandas_gbq) (0.24.2)\n",
      "Requirement already satisfied: requests-oauthlib>=0.7.0 in c:\\anaconda\\lib\\site-packages (from google-auth-oauthlib->pandas_gbq) (1.2.0)\n",
      "Requirement already satisfied: pyasn1-modules>=0.2.1 in c:\\anaconda\\lib\\site-packages (from google-auth->pandas_gbq) (0.2.6)\n",
      "Requirement already satisfied: six>=1.9.0 in c:\\anaconda\\lib\\site-packages (from google-auth->pandas_gbq) (1.14.0)\n",
      "Requirement already satisfied: rsa<4.1,>=3.1.4 in c:\\anaconda\\lib\\site-packages (from google-auth->pandas_gbq) (3.4.2)\n",
      "Requirement already satisfied: cachetools<5.0,>=2.0.0 in c:\\anaconda\\lib\\site-packages (from google-auth->pandas_gbq) (3.1.1)\n",
      "Requirement already satisfied: google-cloud-core<2.0dev,>=1.1.0 in c:\\anaconda\\lib\\site-packages (from google-cloud-bigquery>=1.11.1->pandas_gbq) (1.3.0)\n",
      "Requirement already satisfied: google-resumable-media<0.6dev,>=0.5.0 in c:\\anaconda\\lib\\site-packages (from google-cloud-bigquery>=1.11.1->pandas_gbq) (0.5.0)\n",
      "Requirement already satisfied: google-api-core<2.0dev,>=1.15.0 in c:\\anaconda\\lib\\site-packages (from google-cloud-bigquery>=1.11.1->pandas_gbq) (1.16.0)\n",
      "Requirement already satisfied: protobuf>=3.6.0 in c:\\anaconda\\lib\\site-packages (from google-cloud-bigquery>=1.11.1->pandas_gbq) (3.11.0)\n",
      "Requirement already satisfied: python-dateutil>=2.5.0 in c:\\anaconda\\lib\\site-packages (from pandas>=0.19.0->pandas_gbq) (2.8.0)\n",
      "Requirement already satisfied: numpy>=1.12.0 in c:\\anaconda\\lib\\site-packages (from pandas>=0.19.0->pandas_gbq) (1.16.2)\n",
      "Requirement already satisfied: pytz>=2011k in c:\\anaconda\\lib\\site-packages (from pandas>=0.19.0->pandas_gbq) (2018.9)\n",
      "Requirement already satisfied: requests>=2.0.0 in c:\\anaconda\\lib\\site-packages (from requests-oauthlib>=0.7.0->google-auth-oauthlib->pandas_gbq) (2.21.0)\n",
      "Requirement already satisfied: oauthlib>=3.0.0 in c:\\anaconda\\lib\\site-packages (from requests-oauthlib>=0.7.0->google-auth-oauthlib->pandas_gbq) (3.1.0)\n",
      "Requirement already satisfied: pyasn1<0.5.0,>=0.4.6 in c:\\anaconda\\lib\\site-packages (from pyasn1-modules>=0.2.1->google-auth->pandas_gbq) (0.4.6)\n",
      "Requirement already satisfied: googleapis-common-protos<2.0dev,>=1.6.0 in c:\\anaconda\\lib\\site-packages (from google-api-core<2.0dev,>=1.15.0->google-cloud-bigquery>=1.11.1->pandas_gbq) (1.51.0)\n",
      "Requirement already satisfied: idna<2.9,>=2.5 in c:\\anaconda\\lib\\site-packages (from requests>=2.0.0->requests-oauthlib>=0.7.0->google-auth-oauthlib->pandas_gbq) (2.8)\n",
      "Requirement already satisfied: urllib3<1.25,>=1.21.1 in c:\\anaconda\\lib\\site-packages (from requests>=2.0.0->requests-oauthlib>=0.7.0->google-auth-oauthlib->pandas_gbq) (1.24.1)\n",
      "Requirement already satisfied: certifi>=2017.4.17 in c:\\anaconda\\lib\\site-packages (from requests>=2.0.0->requests-oauthlib>=0.7.0->google-auth-oauthlib->pandas_gbq) (2019.11.28)\n",
      "Requirement already satisfied: chardet<3.1.0,>=3.0.2 in c:\\anaconda\\lib\\site-packages (from requests>=2.0.0->requests-oauthlib>=0.7.0->google-auth-oauthlib->pandas_gbq) (3.0.4)\n"
     ]
    }
   ],
   "source": [
    "!pip install pandas_gbq"
   ]
  },
  {
   "cell_type": "code",
   "execution_count": 8,
   "metadata": {},
   "outputs": [
    {
     "name": "stdout",
     "output_type": "stream",
     "text": [
      "Collecting google-auth\n",
      "  Downloading https://files.pythonhosted.org/packages/d2/f8/1623d69e5de22e499b68a0cb5e5d02cd6a2843e55acc19f314f48fe04299/google_auth-1.14.1-py2.py3-none-any.whl (89kB)\n",
      "Requirement already satisfied, skipping upgrade: six>=1.9.0 in c:\\anaconda\\lib\\site-packages (from google-auth) (1.14.0)\n",
      "Requirement already satisfied, skipping upgrade: setuptools>=40.3.0 in c:\\anaconda\\lib\\site-packages (from google-auth) (40.8.0)\n",
      "Requirement already satisfied, skipping upgrade: cachetools<5.0,>=2.0.0 in c:\\anaconda\\lib\\site-packages (from google-auth) (3.1.1)\n",
      "Requirement already satisfied, skipping upgrade: rsa<4.1,>=3.1.4 in c:\\anaconda\\lib\\site-packages (from google-auth) (3.4.2)\n",
      "Requirement already satisfied, skipping upgrade: pyasn1-modules>=0.2.1 in c:\\anaconda\\lib\\site-packages (from google-auth) (0.2.6)\n",
      "Requirement already satisfied, skipping upgrade: pyasn1>=0.1.3 in c:\\anaconda\\lib\\site-packages (from rsa<4.1,>=3.1.4->google-auth) (0.4.6)\n",
      "Installing collected packages: google-auth\n",
      "  Found existing installation: google-auth 1.12.0\n",
      "    Uninstalling google-auth-1.12.0:\n",
      "      Successfully uninstalled google-auth-1.12.0\n",
      "Successfully installed google-auth-1.14.1\n"
     ]
    },
    {
     "name": "stderr",
     "output_type": "stream",
     "text": [
      "tensorboard 2.0.2 has requirement setuptools>=41.0.0, but you'll have setuptools 40.8.0 which is incompatible.\n"
     ]
    }
   ],
   "source": [
    "!pip install --upgrade google-auth"
   ]
  },
  {
   "cell_type": "code",
   "execution_count": 1,
   "metadata": {},
   "outputs": [],
   "source": [
    "import pandas as pd\n",
    "from google.oauth2 import service_account\n",
    "\n",
    "credentials = service_account.Credentials.from_service_account_file(\n",
    "    'mago-gbq.json')"
   ]
  },
  {
   "cell_type": "code",
   "execution_count": 4,
   "metadata": {},
   "outputs": [
    {
     "name": "stderr",
     "output_type": "stream",
     "text": [
      "Downloading: 100%|██████████| 326/326 [00:01<00:00, 246.41rows/s]\n"
     ]
    }
   ],
   "source": [
    "df = pd.read_gbq(query = 'SELECT * FROM `citric-campaign-274511.brownbag_dataeng.orders` LIMIT 1000', \n",
    "                 project_id = '219807261683', \n",
    "                 credentials = credentials, \n",
    "                 dialect = 'standard')"
   ]
  },
  {
   "cell_type": "code",
   "execution_count": 6,
   "metadata": {},
   "outputs": [],
   "source": [
    "df['customerNumber'] = df['customerNumber'] + 1"
   ]
  },
  {
   "cell_type": "code",
   "execution_count": 8,
   "metadata": {},
   "outputs": [
    {
     "name": "stderr",
     "output_type": "stream",
     "text": [
      "1it [00:03,  3.72s/it]\n"
     ]
    }
   ],
   "source": [
    "df.to_gbq(destination_table = 'brownbag_dataeng.updated_orders', \n",
    "          project_id = '219807261683', \n",
    "          if_exists = 'replace',\n",
    "          credentials = credentials)"
   ]
  },
  {
   "cell_type": "code",
   "execution_count": null,
   "metadata": {},
   "outputs": [],
   "source": []
  }
 ],
 "metadata": {
  "kernelspec": {
   "display_name": "Python 3",
   "language": "python",
   "name": "python3"
  },
  "language_info": {
   "codemirror_mode": {
    "name": "ipython",
    "version": 3
   },
   "file_extension": ".py",
   "mimetype": "text/x-python",
   "name": "python",
   "nbconvert_exporter": "python",
   "pygments_lexer": "ipython3",
   "version": "3.7.3"
  }
 },
 "nbformat": 4,
 "nbformat_minor": 2
}
